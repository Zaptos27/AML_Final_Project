{
 "cells": [
  {
   "cell_type": "code",
   "execution_count": 1,
   "metadata": {},
   "outputs": [
    {
     "name": "stdout",
     "output_type": "stream",
     "text": [
      "10:11:37\n"
     ]
    },
    {
     "data": {
      "text/plain": [
       "DNN_ra(\n",
       "  (layer1): Linear(in_features=7175, out_features=1025, bias=True)\n",
       "  (layer2): Linear(in_features=1025, out_features=1025, bias=True)\n",
       "  (layer3): Linear(in_features=1025, out_features=1025, bias=True)\n",
       "  (layer4): Linear(in_features=1025, out_features=1025, bias=True)\n",
       "  (layer5): Linear(in_features=1025, out_features=1025, bias=True)\n",
       ")"
      ]
     },
     "execution_count": 1,
     "metadata": {},
     "output_type": "execute_result"
    }
   ],
   "source": [
    "import torch\n",
    "import torch.nn as nn\n",
    "import torch.nn.functional as F\n",
    "import torch.optim as optim\n",
    "import data_generator as dg\n",
    "from datetime import datetime\n",
    "\n",
    "#print time\n",
    "print(datetime.now().strftime(\"%H:%M:%S\"))\n",
    "\n",
    "C = 3\n",
    "L = 1025\n",
    "amount = 50\n",
    "files = 10\n",
    "inst = 'Piano'\n",
    "\n",
    "device = torch.device(\"cuda\" if torch.cuda.is_available() else \"cpu\")\n",
    "\n",
    "torch.seed = 2\n",
    "\n",
    "class DNN(nn.Module):\n",
    "\n",
    "    def __init__(self, C, L):\n",
    "        super(DNN, self).__init__()\n",
    "\n",
    "        self.layer1 = nn.Linear((2*C+1)*L, L, dtype=torch.float64)\n",
    "        self.layer2 = nn.Linear(L, L, dtype=torch.float64)\n",
    "        self.layer3 = nn.Linear(L, L, dtype=torch.float64)\n",
    "        self.layer4 = nn.Linear(L, L, dtype=torch.float64)\n",
    "        self.layer5 = nn.Linear(L, L, dtype=torch.float64)\n",
    "\n",
    "    def forward(self, x):\n",
    "        x = F.relu(self.layer1(x))\n",
    "        x = F.relu(self.layer2(x))\n",
    "        x = F.relu(self.layer3(x))\n",
    "        x = F.relu(self.layer4(x))\n",
    "        x = self.layer5(x)\n",
    "        return x\n",
    "\n",
    "dnn_real = DNN(C, L).to(device)\n",
    "dnn_imag = DNN(C, L).to(device)\n",
    "\n",
    "criterion = nn.MSELoss(reduction='sum')\n",
    "\n",
    "\n",
    "def complex_relu(complex_input):\n",
    "    return torch.view_as_complex(torch.clamp(torch.view_as_real(complex_input),min = 0))\n",
    "\n",
    "class DNN_ra(nn.Module):\n",
    "\n",
    "    def __init__(self, C, L):\n",
    "        super(DNN_ra, self).__init__()\n",
    "\n",
    "        self.layer1 = nn.Linear((2*C+1)*L, L, dtype=torch.complex128)\n",
    "        self.layer2 = nn.Linear(L, L, dtype=torch.complex128)\n",
    "        self.layer3 = nn.Linear(L, L, dtype=torch.complex128)\n",
    "        self.layer4 = nn.Linear(L, L, dtype=torch.complex128)\n",
    "        self.layer5 = nn.Linear(L, L, dtype=torch.complex128)\n",
    "\n",
    "    def forward(self, x):\n",
    "        x = complex_relu(self.layer1(x))\n",
    "        x = complex_relu(self.layer2(x))\n",
    "        x = complex_relu(self.layer3(x))\n",
    "        x = complex_relu(self.layer4(x))\n",
    "        x = self.layer5(x)\n",
    "        return x\n",
    "\n",
    "dnn = DNN_ra(C, L)\n",
    "dnn.load_state_dict(torch.load('../model_23_06_12_2340_EPOCH_6'))\n",
    "dnn.eval()\n",
    "dnn.to(device=device)"
   ]
  },
  {
   "attachments": {},
   "cell_type": "markdown",
   "metadata": {},
   "source": [
    "# load model imag\n",
    "dnn_real.load_state_dict(torch.load('../DNN_leastSquares_real.pt'))\n",
    "dnn_imag.load_state_dict(torch.load('../DNN_leastSquares_imag.pt'))\n",
    "dnn_real.eval()\n",
    "dnn_imag.eval()\n"
   ]
  },
  {
   "attachments": {},
   "cell_type": "markdown",
   "metadata": {},
   "source": [
    "data, label = [], []\n",
    "for f in dg.data_frame(files, amount, C = C, L = L, mix_amount = 4, device='cpu', directory='../Data/slakh2100_flac_redux/test'):\n",
    "    positive, negative = dg.search_dicts(f, inst)\n",
    "    if inst in positive:\n",
    "        # Yield positive with inst as label and negative with a zero_like as label\n",
    "        for instrument in positive: \n",
    "            data.append(torch.view_as_complex(f[instrument]).real)\n",
    "            label.append(torch.view_as_complex(f[inst][:, :,C]).real)\n",
    "        iter = 0\n",
    "        for instrument in negative:\n",
    "            data.append(torch.view_as_complex(f[instrument]).real)\n",
    "            label.append(torch.view_as_complex(torch.zeros_like(f[inst][:, :,C])).real)\n",
    "            iter += 1\n",
    "            if iter == len(positive):\n",
    "                break\n",
    "N = (len(data)*amount)\n",
    "print(N)\n",
    "data = torch.stack(data).to(device)\n",
    "label = torch.stack(label).to(device)\n",
    "input = data.reshape(-1, L*(2*C+1))\n",
    "target = label.reshape(-1, L)# "
   ]
  },
  {
   "attachments": {},
   "cell_type": "markdown",
   "metadata": {},
   "source": [
    "criterion(dnn_real(input), target) # imag 0.94, real 3.426"
   ]
  },
  {
   "cell_type": "code",
   "execution_count": 2,
   "metadata": {},
   "outputs": [],
   "source": [
    "def generate_overlapping_array(original_array):\n",
    "    new_array = []\n",
    "    array_length = len(original_array)\n",
    "\n",
    "    for i in range(array_length):\n",
    "        end_index = i + 7\n",
    "        if end_index > array_length:\n",
    "            break\n",
    "        new_array.append(original_array[i:end_index])\n",
    "\n",
    "    return new_array"
   ]
  },
  {
   "cell_type": "code",
   "execution_count": 3,
   "metadata": {},
   "outputs": [],
   "source": [
    "# Generate entire song for testing\n",
    "import soundfile as sf\n",
    "import numpy as np\n",
    "from scipy.signal import stft, istft\n",
    "\n",
    "def generate_song(C, L, device='cpu'):\n",
    "    song, sr = sf.read('test.mp3')\n",
    "    song = np.mean(song,axis=1)\n",
    "    _, _, Zxx = stft(song, fs=sr, nperseg=L*2-2)\n",
    "    print(Zxx.shape)\n",
    "    Zxx = np.array(generate_overlapping_array(Zxx.T))\n",
    "    Zxx = Zxx.reshape(-1, L*(2*C+1))\n",
    "    Zxx = torch.from_numpy(Zxx).to(device)\n",
    "    Zxx_real = dnn(Zxx).detach().cpu().numpy()\n",
    "    #Zxx_imag = dnn_imag(Zxx.imag).detach().cpu().numpy()\n",
    "    Zxx = Zxx_real #+ 1j*Zxx_imag\n",
    "    _, song = istft(Zxx.T, fs=sr, nperseg=L*2-2)\n",
    "    sf.write('SSE.wav', song, sr)"
   ]
  },
  {
   "cell_type": "code",
   "execution_count": 4,
   "metadata": {},
   "outputs": [
    {
     "name": "stdout",
     "output_type": "stream",
     "text": [
      "(1025, 9133)\n"
     ]
    }
   ],
   "source": [
    "generate_song(C, L, device=device)"
   ]
  },
  {
   "cell_type": "code",
   "execution_count": null,
   "metadata": {},
   "outputs": [],
   "source": []
  }
 ],
 "metadata": {
  "kernelspec": {
   "display_name": "base",
   "language": "python",
   "name": "python3"
  },
  "language_info": {
   "codemirror_mode": {
    "name": "ipython",
    "version": 3
   },
   "file_extension": ".py",
   "mimetype": "text/x-python",
   "name": "python",
   "nbconvert_exporter": "python",
   "pygments_lexer": "ipython3",
   "version": "3.10.10"
  },
  "orig_nbformat": 4
 },
 "nbformat": 4,
 "nbformat_minor": 2
}
