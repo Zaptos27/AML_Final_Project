{
 "cells": [
  {
   "cell_type": "code",
   "execution_count": 1,
   "metadata": {},
   "outputs": [],
   "source": [
    "from torch.nn.functional import relu\n",
    "import torch\n",
    "\n",
    "def complex_relu(input_r,input_i):\n",
    "    return relu(input_r), relu(input_i)\n",
    "\n",
    "def complex_relu2(complex_input):\n",
    "    return torch.stack((relu(complex_input[...,0]), relu(complex_input[...,1])), dim = -1)\n",
    "\n",
    "\n",
    "def complex_relu3(complex_input):\n",
    "    complex_input[...,0] = relu(complex_input.select(-1, 0))\n",
    "    complex_input[...,1] = relu(complex_input.select(-1, 1))\n",
    "    return complex_input\n",
    "\n",
    "def complex_relu4(complex_input):\n",
    "    return torch.stack((relu(complex_input.select(-1, 0)), relu(complex_input[...,1])), dim = -1)\n",
    "\n",
    "def complex_relu5(complex_input):\n",
    "    return torch.clamp(complex_input,min = 0)\n",
    "\n",
    "device = torch.device(\"cuda:0\" )\n",
    "\n",
    "n = 1000\n",
    "X_r = torch.randn(n,n).to(device)\n",
    "X_i = torch.randn(n,n).to(device)\n",
    "X = torch.stack((X_r,X_i),dim=-1).to(device)"
   ]
  },
  {
   "cell_type": "code",
   "execution_count": 2,
   "metadata": {},
   "outputs": [
    {
     "name": "stdout",
     "output_type": "stream",
     "text": [
      "26.8 µs ± 5.62 ns per loop (mean ± std. dev. of 7 runs, 10,000 loops each)\n"
     ]
    }
   ],
   "source": [
    "%timeit complex_relu(X_r,X_i)"
   ]
  },
  {
   "cell_type": "code",
   "execution_count": 3,
   "metadata": {},
   "outputs": [
    {
     "name": "stdout",
     "output_type": "stream",
     "text": [
      "74 µs ± 9.54 ns per loop (mean ± std. dev. of 7 runs, 10,000 loops each)\n"
     ]
    }
   ],
   "source": [
    "%timeit complex_relu2(X)"
   ]
  },
  {
   "cell_type": "code",
   "execution_count": 4,
   "metadata": {},
   "outputs": [
    {
     "name": "stdout",
     "output_type": "stream",
     "text": [
      "83.9 µs ± 9.7 ns per loop (mean ± std. dev. of 7 runs, 10,000 loops each)\n"
     ]
    }
   ],
   "source": [
    "%timeit complex_relu3(X)"
   ]
  },
  {
   "cell_type": "code",
   "execution_count": 5,
   "metadata": {},
   "outputs": [
    {
     "name": "stdout",
     "output_type": "stream",
     "text": [
      "74 µs ± 10.4 ns per loop (mean ± std. dev. of 7 runs, 10,000 loops each)\n"
     ]
    }
   ],
   "source": [
    "%timeit complex_relu4(X)"
   ]
  },
  {
   "cell_type": "code",
   "execution_count": 6,
   "metadata": {},
   "outputs": [
    {
     "name": "stdout",
     "output_type": "stream",
     "text": [
      "25.2 µs ± 1.68 ns per loop (mean ± std. dev. of 7 runs, 10,000 loops each)\n"
     ]
    }
   ],
   "source": [
    "%timeit complex_relu5(X)"
   ]
  },
  {
   "cell_type": "code",
   "execution_count": null,
   "metadata": {},
   "outputs": [],
   "source": []
  }
 ],
 "metadata": {
  "kernelspec": {
   "display_name": "base",
   "language": "python",
   "name": "python3"
  },
  "language_info": {
   "codemirror_mode": {
    "name": "ipython",
    "version": 3
   },
   "file_extension": ".py",
   "mimetype": "text/x-python",
   "name": "python",
   "nbconvert_exporter": "python",
   "pygments_lexer": "ipython3",
   "version": "3.10.10"
  },
  "orig_nbformat": 4
 },
 "nbformat": 4,
 "nbformat_minor": 2
}
