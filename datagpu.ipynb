{
 "cells": [
  {
   "cell_type": "code",
   "execution_count": 1,
   "metadata": {},
   "outputs": [],
   "source": [
    "import yaml\n",
    "import numpy as np\n",
    "import os\n",
    "import soundfile as sf\n",
    "from scipy.signal import stft\n",
    "from tqdm import tqdm\n",
    "import torch\n",
    "# If you have a GPU, put the data on the GPU\n",
    "device = torch.device(\"cuda\" if torch.cuda.is_available() else \"cpu\")\n",
    "\n",
    "directory = \"../Data/slakh2100_flac_redux/train\"\n",
    "listdir = os.listdir(directory)\n",
    "listdir.sort()\n",
    "format = '.flac'\n",
    "savedir = 'data/train'\n",
    "sample_freq = 44100\n",
    "freq_amount = 129\n",
    "max_size = 200\n",
    "listdir = listdir[:max_size]"
   ]
  },
  {
   "cell_type": "code",
   "execution_count": 2,
   "metadata": {},
   "outputs": [
    {
     "name": "stderr",
     "output_type": "stream",
     "text": [
      "100%|██████████| 200/200 [12:24<00:00,  3.72s/it]\n"
     ]
    }
   ],
   "source": [
    "for i, tr in enumerate(tqdm(listdir)):\n",
    "    tr_dicts_2 = {}\n",
    "    tr_path = os.path.join(directory, tr)\n",
    "    with open(os.path.join(tr_path, \"metadata.yaml\")) as meta:\n",
    "        metadata = yaml.load(meta, Loader=yaml.Loader)\n",
    "    # add Mix to the dictionary\n",
    "    f, t, Zxx = stft(sf.read(os.path.join(directory,tr, 'mix'+format))[0], fs=sample_freq, nperseg=freq_amount*2-2)\n",
    "    tr_dicts_2.update({'mix': torch.view_as_real_copy(torch.tensor(Zxx, dtype=torch.complex128, device=device))})\n",
    "    file_inst = []\n",
    "    for stem in metadata['stems'].keys():\n",
    "        file_inst.append([stem + format, metadata['stems'][stem]['inst_class']])\n",
    "    file_inst = np.array(file_inst)\n",
    "    file_inst = file_inst[[file_inst[:,0][i] in os.listdir(tr_path + '/stems') for i in range(len(file_inst))]]\n",
    "    # combine all stems from the same instrument and track using soundfile\n",
    "    for inst in np.unique(file_inst[:,1]):\n",
    "        inst_files = file_inst[file_inst[:,1] == inst][:,0]\n",
    "        inst_files = [os.path.join(tr_path, 'stems', inst_file) for inst_file in inst_files]\n",
    "        inst_data = np.array([sf.read(inst_file)[0] for inst_file in inst_files])\n",
    "        inst_data = np.sum(inst_data, axis=0)\n",
    "        # compute the STFT of the combined data\n",
    "        if inst in ['mix','Bass', 'Guitar', 'Drums', 'Piano']:\n",
    "            f, t, Zxx = stft(inst_data, fs=sample_freq, nperseg=freq_amount*2-2)\n",
    "            tr_dicts_2.update({inst: torch.view_as_real_copy(torch.tensor(Zxx, dtype=torch.complex128, device=device))})\n",
    "    # save the dictionary as a .pt file\n",
    "    torch.save(tr_dicts_2, os.path.join(savedir, tr + '.pt'))\n",
    "    torch.cuda.empty_cache()"
   ]
  },
  {
   "cell_type": "code",
   "execution_count": null,
   "metadata": {},
   "outputs": [],
   "source": []
  }
 ],
 "metadata": {
  "kernelspec": {
   "display_name": "base",
   "language": "python",
   "name": "python3"
  },
  "language_info": {
   "codemirror_mode": {
    "name": "ipython",
    "version": 3
   },
   "file_extension": ".py",
   "mimetype": "text/x-python",
   "name": "python",
   "nbconvert_exporter": "python",
   "pygments_lexer": "ipython3",
   "version": "3.10.10"
  },
  "orig_nbformat": 4
 },
 "nbformat": 4,
 "nbformat_minor": 2
}
