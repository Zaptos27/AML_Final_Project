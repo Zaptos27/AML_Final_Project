{
 "cells": [
  {
   "cell_type": "code",
   "execution_count": 1,
   "metadata": {},
   "outputs": [],
   "source": [
    "import yaml\n",
    "import numpy as np\n",
    "import os\n",
    "import soundfile as sf\n",
    "from scipy.signal import stft\n",
    "from tqdm import tqdm\n",
    "import torch\n",
    "# If you have a GPU, put the data on the GPU\n",
    "device = torch.device(\"cuda\" if torch.cuda.is_available() else \"cpu\")"
   ]
  },
  {
   "cell_type": "code",
   "execution_count": 3,
   "metadata": {},
   "outputs": [
    {
     "name": "stderr",
     "output_type": "stream",
     "text": [
      "100%|██████████| 20/20 [00:15<00:00,  1.33it/s]\n"
     ]
    }
   ],
   "source": [
    "directory = \"data/babyslakh_16k\"\n",
    "listdir = os.listdir(directory)\n",
    "listdir.sort()\n",
    "format = '.wav'\n",
    "savedir = 'data/baby/tensor'\n",
    "sample_rate = 16000\n",
    "nperseg = 256\n",
    "max_size = 250\n",
    "\n",
    "for i, tr in enumerate(tqdm(listdir)):\n",
    "    tr_dicts_2 = {}\n",
    "    tr_path = os.path.join(directory, tr)\n",
    "    with open(os.path.join(tr_path, \"metadata.yaml\")) as meta:\n",
    "        metadata = yaml.load(meta, Loader=yaml.Loader)\n",
    "    # add Mix to the dictionary\n",
    "    f, t, Zxx = stft(sf.read(os.path.join(directory,tr, 'mix'+format))[0], fs=sample_rate, nperseg=nperseg)\n",
    "    tr_dicts_2.update({'mix': torch.tensor(Zxx.copy(), dtype=torch.complex128, device=device)})\n",
    "    file_inst = []\n",
    "    for stem in metadata['stems'].keys():\n",
    "        file_inst.append([stem + format, metadata['stems'][stem]['inst_class']])\n",
    "    file_inst = np.array(file_inst)\n",
    "    file_inst = file_inst[[file_inst[:,0][i] in os.listdir(tr_path + '/stems') for i in range(len(file_inst))]]\n",
    "    # combine all stems from the same instrument and track using soundfile\n",
    "    for inst in np.unique(file_inst[:,1]):\n",
    "        inst_files = file_inst[file_inst[:,1] == inst][:,0]\n",
    "        inst_files = [os.path.join(tr_path, 'stems', inst_file) for inst_file in inst_files]\n",
    "        inst_data = np.array([sf.read(inst_file)[0] for inst_file in inst_files])\n",
    "        inst_data = np.sum(inst_data, axis=0)\n",
    "        # compute the STFT of the combined data\n",
    "        if inst in ['mix','Bass', 'Guitar', 'Drums', 'Piano']:\n",
    "            f, t, Zxx = stft(inst_data, fs=sample_rate, nperseg=nperseg)\n",
    "            tr_dicts_2.update({inst: torch.tensor(Zxx.copy(), dtype=torch.complex128, device=device)})\n",
    "    # save the dictionary as a .pt file\n",
    "    torch.save(tr_dicts_2, os.path.join(savedir, tr + '.pt'))\n",
    "    if i > max_size:\n",
    "        break"
   ]
  },
  {
   "cell_type": "code",
   "execution_count": 7,
   "metadata": {},
   "outputs": [
    {
     "data": {
      "text/plain": [
       "tensor([[ 0.0000e+00+0.0000e+00j,  0.0000e+00+0.0000e+00j,\n",
       "          0.0000e+00+0.0000e+00j,  ...,\n",
       "         -3.7538e-05+0.0000e+00j, -3.6747e-05+0.0000e+00j,\n",
       "         -4.0455e-06+0.0000e+00j],\n",
       "        [ 0.0000e+00+0.0000e+00j,  0.0000e+00+0.0000e+00j,\n",
       "          0.0000e+00+0.0000e+00j,  ...,\n",
       "          1.7981e-05+1.5456e-06j,  2.1901e-05+2.8957e-06j,\n",
       "         -1.3105e-06+3.5642e-06j],\n",
       "        [ 0.0000e+00+0.0000e+00j,  0.0000e+00+0.0000e+00j,\n",
       "          0.0000e+00+0.0000e+00j,  ...,\n",
       "          8.7858e-07-1.7095e-06j, -1.4241e-06+1.0943e-06j,\n",
       "          2.4475e-06+1.9497e-06j],\n",
       "        ...,\n",
       "        [ 0.0000e+00+0.0000e+00j,  0.0000e+00+0.0000e+00j,\n",
       "          0.0000e+00+0.0000e+00j,  ...,\n",
       "         -3.1833e-07+6.4117e-07j,  2.5399e-07-1.4708e-07j,\n",
       "         -2.5272e-07+4.8756e-08j],\n",
       "        [ 0.0000e+00+0.0000e+00j,  0.0000e+00+0.0000e+00j,\n",
       "          0.0000e+00+0.0000e+00j,  ...,\n",
       "          2.4930e-07-1.1578e-07j, -6.0487e-07-1.5230e-07j,\n",
       "          2.1178e-08+2.5657e-07j],\n",
       "        [ 0.0000e+00+0.0000e+00j,  0.0000e+00+0.0000e+00j,\n",
       "          0.0000e+00+0.0000e+00j,  ...,\n",
       "          1.4248e-07+0.0000e+00j,  9.8021e-07+0.0000e+00j,\n",
       "          2.5680e-07+0.0000e+00j]], device='cuda:0', dtype=torch.complex128)"
      ]
     },
     "execution_count": 7,
     "metadata": {},
     "output_type": "execute_result"
    }
   ],
   "source": [
    "tr_dicts_3 = torch.load('data/baby/tensor/Track00002.pt')\n",
    "\n",
    "tr_dicts_3['mix']"
   ]
  },
  {
   "cell_type": "code",
   "execution_count": null,
   "metadata": {},
   "outputs": [],
   "source": []
  }
 ],
 "metadata": {
  "kernelspec": {
   "display_name": "base",
   "language": "python",
   "name": "python3"
  },
  "language_info": {
   "codemirror_mode": {
    "name": "ipython",
    "version": 3
   },
   "file_extension": ".py",
   "mimetype": "text/x-python",
   "name": "python",
   "nbconvert_exporter": "python",
   "pygments_lexer": "ipython3",
   "version": "3.10.10"
  },
  "orig_nbformat": 4
 },
 "nbformat": 4,
 "nbformat_minor": 2
}
