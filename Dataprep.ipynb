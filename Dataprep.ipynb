{
 "cells": [
  {
   "cell_type": "code",
   "execution_count": 1,
   "metadata": {},
   "outputs": [
    {
     "name": "stderr",
     "output_type": "stream",
     "text": [
      "/home/zaptos/miniconda3/lib/python3.10/site-packages/pydub/utils.py:170: RuntimeWarning: Couldn't find ffmpeg or avconv - defaulting to ffmpeg, but may not work\n",
      "  warn(\"Couldn't find ffmpeg or avconv - defaulting to ffmpeg, but may not work\", RuntimeWarning)\n"
     ]
    }
   ],
   "source": [
    "import yaml\n",
    "from pydub import AudioSegment\n",
    "import numpy as np\n",
    "import wave\n",
    "import os\n",
    "import numpy as np\n",
    "import soundfile as sf\n",
    "from scipy.signal import stft\n",
    "import matplotlib.pyplot as plt\n",
    "from tqdm import tqdm"
   ]
  },
  {
   "cell_type": "code",
   "execution_count": 2,
   "metadata": {},
   "outputs": [
    {
     "name": "stderr",
     "output_type": "stream",
     "text": [
      "100%|██████████| 20/20 [00:08<00:00,  2.43it/s]\n"
     ]
    }
   ],
   "source": [
    "directory = \"data/babyslakh_16k\"\n",
    "listdir = os.listdir(directory)\n",
    "listdir.sort()\n",
    "tr_dicts = [{}]*len(listdir)\n",
    "tr_dicts_2 = [{}]*len(listdir)\n",
    "\n",
    "for i, tr in enumerate(tqdm(listdir)):\n",
    "    tr_path = os.path.join(directory, tr)\n",
    "    with open(os.path.join(tr_path, \"metadata.yaml\")) as meta:\n",
    "        metadata = yaml.load(meta, Loader=yaml.Loader)\n",
    "    file_inst = []\n",
    "    for stem in metadata['stems'].keys():\n",
    "        file_inst.append([stem + '.wav', metadata['stems'][stem]['inst_class']])\n",
    "    file_inst = np.array(file_inst)\n",
    "    file_inst = file_inst[[file_inst[:,0][i] in os.listdir(tr_path + '/stems') for i in range(len(file_inst))]]\n",
    "    # combine all stems from the same instrument and track using soundfile\n",
    "    for inst in np.unique(file_inst[:,1]):\n",
    "        inst_files = file_inst[file_inst[:,1] == inst][:,0]\n",
    "        inst_files = [os.path.join(tr_path, 'stems', inst_file) for inst_file in inst_files]\n",
    "        inst_data = np.array([sf.read(inst_file)[0] for inst_file in inst_files])\n",
    "        inst_data = np.sum(inst_data, axis=0)\n",
    "        #update the dictionary with the combined data and the instrument name as the key\n",
    "        tr_dicts[i].update({inst: inst_data})\n",
    "\n",
    "    for inst in tr_dicts[i].keys():\n",
    "        if inst in ['Bass', 'Guitar', 'Drums']:\n",
    "            f, t, Zxx = stft(tr_dicts[i][inst], fs=16000, nperseg=256)\n",
    "            tr_dicts_2[i].update({inst: np.abs(Zxx)})\n",
    "\n",
    "\n",
    "# Plot the magnitude of the STFT for each instrument\n",
    "#for i, tr in enumerate(tqdm(tr_dicts_2)):\n",
    "#    for inst in tr.keys():\n",
    "#        plt.pcolormesh(t, f, tr[inst], shading='gouraud')\n",
    "#        plt.colorbar(label='Magnitude')\n",
    "#        plt.title(f'STFT Magnitude: Track {i} Instrument: ' + inst)\n",
    "#        plt.xlabel('Time [s]')\n",
    "#        plt.ylabel('Frequency [Hz]')\n",
    "#        plt.show()"
   ]
  },
  {
   "cell_type": "code",
   "execution_count": null,
   "metadata": {},
   "outputs": [],
   "source": [
    "import yaml\n",
    "from pydub import AudioSegment\n",
    "import numpy as np\n",
    "import wave\n",
    "import os\n",
    "\n",
    "old_directory = \"babyslakh_16k\"\n",
    "new_directory = \"new_babyslack\"\n",
    "try:\n",
    "    os.mkdir(new_directory)\n",
    "except:\n",
    "    pass\n",
    "\n",
    "for tr in os.listdir(old_directory):\n",
    "    old_tr = os.path.join(old_directory, tr)\n",
    "    new_tr = os.path.join(new_directory, tr)\n",
    "    try:\n",
    "        os.mkdir(new_tr)\n",
    "    except:\n",
    "        pass\n",
    "\n",
    "    with open(os.path.join(old_tr, \"metadata.yaml\")) as meta:\n",
    "        metadata = yaml.load(meta, Loader=yaml.Loader)\n",
    "\n",
    "    file_inst = []\n",
    "    for stem in metadata['stems'].keys():\n",
    "        file_inst.append([stem + '.wav', metadata['stems'][stem]['inst_class']])\n",
    "\n",
    "    file_inst = np.array(file_inst)\n",
    "    file_inst = file_inst[[file_inst[:,0][i] in os.listdir(old_tr + '/stems') for i in range(len(file_inst))]]\n",
    "    \n",
    "    mix_path = os.path.join(new_tr, 'mix.wav')\n",
    "\n",
    "    mix = AudioSegment.from_file(os.path.join(old_tr, 'mix.wav'))\n",
    "    mix.export(mix_path, format='wav')\n",
    "\n",
    "    unique_inst = np.unique(file_inst[:,1])\n",
    "    for inst in unique_inst:\n",
    "        inst_list = []\n",
    "        inst_path = os.path.join(new_tr, inst + '.wav')\n",
    "        for i in range(file_inst.shape[0]):\n",
    "            if file_inst[:,1][i] == inst:\n",
    "                inst_list.append(file_inst[:,0][i])\n",
    "        if len(inst_list) > 1:\n",
    "            sound1 = AudioSegment.from_file(os.path.join(old_tr + '/stems', inst_list[0]))\n",
    "            for i in range(len(inst_list)-1):\n",
    "                sound2 = AudioSegment.from_file(os.path.join(old_tr + '/stems', inst_list[i+1]))\n",
    "                combined = sound1.overlay(sound2)\n",
    "                sound1 = combined\n",
    "            combined.export(inst_path, format='wav')\n",
    "        else:\n",
    "            sound = AudioSegment.from_file(os.path.join(old_tr + '/stems', inst_list[0]))\n",
    "            sound.export(inst_path, format='wav')"
   ]
  }
 ],
 "metadata": {
  "kernelspec": {
   "display_name": "base",
   "language": "python",
   "name": "python3"
  },
  "language_info": {
   "codemirror_mode": {
    "name": "ipython",
    "version": 3
   },
   "file_extension": ".py",
   "mimetype": "text/x-python",
   "name": "python",
   "nbconvert_exporter": "python",
   "pygments_lexer": "ipython3",
   "version": "3.10.10"
  },
  "orig_nbformat": 4
 },
 "nbformat": 4,
 "nbformat_minor": 2
}
