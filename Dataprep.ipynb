{
 "cells": [
  {
   "cell_type": "code",
   "execution_count": 4,
   "metadata": {},
   "outputs": [
    {
     "name": "stderr",
     "output_type": "stream",
     "text": [
      "/home/zaptos/miniconda3/lib/python3.10/site-packages/pydub/utils.py:170: RuntimeWarning: Couldn't find ffmpeg or avconv - defaulting to ffmpeg, but may not work\n",
      "  warn(\"Couldn't find ffmpeg or avconv - defaulting to ffmpeg, but may not work\", RuntimeWarning)\n"
     ]
    }
   ],
   "source": [
    "import yaml\n",
    "from pydub import AudioSegment\n",
    "import numpy as np\n",
    "import wave\n",
    "import os\n",
    "import numpy as np\n",
    "import soundfile as sf\n",
    "from scipy.signal import stft, istft\n",
    "import matplotlib.pyplot as plt\n",
    "from tqdm import tqdm"
   ]
  },
  {
   "cell_type": "code",
   "execution_count": 16,
   "metadata": {},
   "outputs": [
    {
     "name": "stderr",
     "output_type": "stream",
     "text": [
      "  0%|          | 0/20 [00:00<?, ?it/s]\n"
     ]
    },
    {
     "ename": "TypeError",
     "evalue": "can only concatenate str (not \"builtin_function_or_method\") to str",
     "output_type": "error",
     "traceback": [
      "\u001b[0;31m---------------------------------------------------------------------------\u001b[0m",
      "\u001b[0;31mTypeError\u001b[0m                                 Traceback (most recent call last)",
      "Cell \u001b[0;32mIn[16], line 12\u001b[0m\n\u001b[1;32m     10\u001b[0m     metadata \u001b[39m=\u001b[39m yaml\u001b[39m.\u001b[39mload(meta, Loader\u001b[39m=\u001b[39myaml\u001b[39m.\u001b[39mLoader)\n\u001b[1;32m     11\u001b[0m \u001b[39m# add Mix to the dictionary\u001b[39;00m\n\u001b[0;32m---> 12\u001b[0m f, t, Zxx \u001b[39m=\u001b[39m stft(sf\u001b[39m.\u001b[39mread(os\u001b[39m.\u001b[39mpath\u001b[39m.\u001b[39mjoin(directory,tr, \u001b[39m'\u001b[39;49m\u001b[39mmix\u001b[39;49m\u001b[39m'\u001b[39;49m\u001b[39m+\u001b[39;49m\u001b[39mformat\u001b[39;49m))[\u001b[39m0\u001b[39m], fs\u001b[39m=\u001b[39m\u001b[39m16000\u001b[39m, nperseg\u001b[39m=\u001b[39m\u001b[39m256\u001b[39m)\n\u001b[1;32m     13\u001b[0m tr_dicts_2\u001b[39m.\u001b[39mupdate({\u001b[39m'\u001b[39m\u001b[39mmix\u001b[39m\u001b[39m'\u001b[39m: Zxx\u001b[39m.\u001b[39mcopy()})\n\u001b[1;32m     14\u001b[0m file_inst \u001b[39m=\u001b[39m []\n",
      "\u001b[0;31mTypeError\u001b[0m: can only concatenate str (not \"builtin_function_or_method\") to str"
     ]
    }
   ],
   "source": [
    "directory = \"data/babyslakh_16k\"\n",
    "listdir = os.listdir(directory)\n",
    "listdir.sort()\n",
    "tr_dicts = [{}]*len(listdir)\n",
    "tr_dicts_2 = [{}]*len(listdir)\n",
    "\n",
    "for i, tr in enumerate(tqdm(listdir)):\n",
    "    tr_path = os.path.join(directory, tr)\n",
    "    with open(os.path.join(tr_path, \"metadata.yaml\")) as meta:\n",
    "        metadata = yaml.load(meta, Loader=yaml.Loader)\n",
    "    # add Mix to the dictionary\n",
    "    f, t, Zxx = stft(sf.read(os.path.join(directory,tr, 'mix'+format))[0], fs=16000, nperseg=256)\n",
    "    tr_dicts_2.update({'mix': Zxx.copy()})\n",
    "    file_inst = []\n",
    "    for stem in metadata['stems'].keys():\n",
    "        file_inst.append([stem + '.wav', metadata['stems'][stem]['inst_class']])\n",
    "    file_inst = np.array(file_inst)\n",
    "    file_inst = file_inst[[file_inst[:,0][i] in os.listdir(tr_path + '/stems') for i in range(len(file_inst))]]\n",
    "    # combine all stems from the same instrument and track using soundfile\n",
    "    for inst in np.unique(file_inst[:,1]):\n",
    "        inst_files = file_inst[file_inst[:,1] == inst][:,0]\n",
    "        inst_files = [os.path.join(tr_path, 'stems', inst_file) for inst_file in inst_files]\n",
    "        inst_data = np.array([sf.read(inst_file)[0] for inst_file in inst_files])\n",
    "        inst_data = np.sum(inst_data, axis=0)\n",
    "        #update the dictionary with the combined data and the instrument name as the key\n",
    "        tr_dicts[i].update({inst: inst_data})\n",
    "        # compute the STFT of the combined data\n",
    "        if inst in ['Bass', 'Guitar', 'Drums']:\n",
    "            f, t, Zxx = stft(inst_data, fs=16000, nperseg=256)\n",
    "            tr_dicts_2[i].update({inst: Zxx})\n",
    "\n",
    "\n",
    "# Plot the magnitude of the STFT for each instrument\n",
    "#for i, tr in enumerate(tqdm(tr_dicts_2)):\n",
    "#    for inst in tr.keys():\n",
    "#        plt.pcolormesh(t, f, tr[inst], shading='gouraud')\n",
    "#        plt.colorbar(label='Magnitude')\n",
    "#        plt.title(f'STFT Magnitude: Track {i} Instrument: ' + inst)\n",
    "#        plt.xlabel('Time [s]')\n",
    "#        plt.ylabel('Frequency [Hz]')\n",
    "#        plt.show()"
   ]
  },
  {
   "cell_type": "code",
   "execution_count": 7,
   "metadata": {},
   "outputs": [],
   "source": [
    "import yaml\n",
    "import numpy as np\n",
    "import os\n",
    "import soundfile as sf\n",
    "from scipy.signal import stft\n",
    "from tqdm import tqdm\n",
    "import torch\n",
    "# If you have a GPU, put the data on the GPU\n",
    "device = torch.device(\"cuda\" if torch.cuda.is_available() else \"cpu\")\n",
    "\n",
    "directory = \"data/babyslakh_16k\"\n",
    "listdir = os.listdir(directory)\n",
    "listdir.sort()\n",
    "format = '.wav'\n",
    "savedir = 'data/train'\n",
    "sample_freq = 16000\n",
    "freq_amount = 129\n",
    "max_size = 1\n",
    "listdir = listdir[:max_size]"
   ]
  },
  {
   "cell_type": "code",
   "execution_count": 8,
   "metadata": {},
   "outputs": [
    {
     "name": "stderr",
     "output_type": "stream",
     "text": [
      "100%|██████████| 1/1 [00:00<00:00,  1.11it/s]\n"
     ]
    }
   ],
   "source": [
    "for i, tr in enumerate(tqdm(listdir)):\n",
    "    tr_dicts_2 = {}\n",
    "    tr_path = os.path.join(directory, tr)\n",
    "    with open(os.path.join(tr_path, \"metadata.yaml\")) as meta:\n",
    "        metadata = yaml.load(meta, Loader=yaml.Loader)\n",
    "    # add Mix to the dictionary\n",
    "    f, t, Zxx = stft(sf.read(os.path.join(directory,tr, 'mix'+format))[0], fs=sample_freq, nperseg=freq_amount*2-2)\n",
    "    tr_dicts_2.update({'mix': torch.tensor(Zxx.copy(), dtype=torch.complex128, device=device)})\n",
    "    file_inst = []\n",
    "    for stem in metadata['stems'].keys():\n",
    "        file_inst.append([stem + format, metadata['stems'][stem]['inst_class']])\n",
    "    file_inst = np.array(file_inst)\n",
    "    file_inst = file_inst[[file_inst[:,0][i] in os.listdir(tr_path + '/stems') for i in range(len(file_inst))]]\n",
    "    # combine all stems from the same instrument and track using soundfile\n",
    "    for inst in np.unique(file_inst[:,1]):\n",
    "        inst_files = file_inst[file_inst[:,1] == inst][:,0]\n",
    "        inst_files = [os.path.join(tr_path, 'stems', inst_file) for inst_file in inst_files]\n",
    "        inst_data = np.array([sf.read(inst_file)[0] for inst_file in inst_files])\n",
    "        inst_data = np.sum(inst_data, axis=0)\n",
    "        # compute the STFT of the combined data\n",
    "        if inst in ['mix','Bass', 'Guitar', 'Drums', 'Piano']:\n",
    "            f, t, Zxx = stft(inst_data, fs=sample_freq, nperseg=freq_amount*2-2)\n",
    "            tr_dicts_2.update({inst: torch.tensor(Zxx.copy(), dtype=torch.complex128, device=device)})\n",
    "    # save the dictionary as a .pt file\n",
    "    torch.save(tr_dicts_2, os.path.join(savedir, tr + '.pt'))\n",
    "    torch.cuda.empty_cache()"
   ]
  },
  {
   "cell_type": "code",
   "execution_count": 12,
   "metadata": {},
   "outputs": [],
   "source": [
    "t, f = istft((tr_dicts_2['mix'].cpu().numpy()), fs=sample_freq)"
   ]
  },
  {
   "cell_type": "code",
   "execution_count": 16,
   "metadata": {},
   "outputs": [],
   "source": [
    "sf.write('test.wav', f, 8000)"
   ]
  },
  {
   "cell_type": "code",
   "execution_count": null,
   "metadata": {},
   "outputs": [],
   "source": []
  }
 ],
 "metadata": {
  "kernelspec": {
   "display_name": "base",
   "language": "python",
   "name": "python3"
  },
  "language_info": {
   "codemirror_mode": {
    "name": "ipython",
    "version": 3
   },
   "file_extension": ".py",
   "mimetype": "text/x-python",
   "name": "python",
   "nbconvert_exporter": "python",
   "pygments_lexer": "ipython3",
   "version": "3.11.3"
  },
  "orig_nbformat": 4
 },
 "nbformat": 4,
 "nbformat_minor": 2
}
