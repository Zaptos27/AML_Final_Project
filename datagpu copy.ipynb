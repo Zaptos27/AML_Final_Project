{
 "cells": [
  {
   "cell_type": "code",
   "execution_count": 1,
   "metadata": {},
   "outputs": [],
   "source": [
    "import yaml\n",
    "import numpy as np\n",
    "import os\n",
    "import soundfile as sf\n",
    "from scipy.signal import stft\n",
    "from tqdm import tqdm\n",
    "import torch\n",
    "# If you have a GPU, put the data on the GPU\n",
    "device = torch.device(\"cuda\" if torch.cuda.is_available() else \"cpu\")"
   ]
  },
  {
   "cell_type": "code",
   "execution_count": 9,
   "metadata": {},
   "outputs": [
    {
     "name": "stderr",
     "output_type": "stream",
     "text": [
      "100%|██████████| 21/21 [00:20<00:00,  1.00it/s]\n"
     ]
    }
   ],
   "source": [
    "directory = \"/Users/odysseaslazaridis/Documents/GroupProject/babyslakh_16k\"\n",
    "listdir = os.listdir(directory)\n",
    "listdir.sort()\n",
    "format = '.wav'\n",
    "savedir = 'data'\n",
    "sample_rate = 16000\n",
    "nperseg = 256\n",
    "max_size = 250\n",
    "\n",
    "for i, tr in enumerate(tqdm(listdir)):\n",
    "    if tr != \".DS_Store\":\n",
    "        tr_dicts_2 = {}\n",
    "        tr_path = os.path.join(directory, tr)\n",
    "        with open(os.path.join(tr_path, \"metadata.yaml\")) as meta:\n",
    "            metadata = yaml.load(meta, Loader=yaml.Loader)\n",
    "        # add Mix to the dictionary\n",
    "        f, t, Zxx = stft(sf.read(os.path.join(directory,tr, 'mix'+format))[0], fs=sample_rate, nperseg=nperseg)\n",
    "        tr_dicts_2.update({'mix': torch.tensor(Zxx.copy(), dtype=torch.complex128, device=device)})\n",
    "        file_inst = []\n",
    "        for stem in metadata['stems'].keys():\n",
    "            file_inst.append([stem + format, metadata['stems'][stem]['inst_class']])\n",
    "        file_inst = np.array(file_inst)\n",
    "        file_inst = file_inst[[file_inst[:,0][i] in os.listdir(tr_path + '/stems') for i in range(len(file_inst))]]\n",
    "        # combine all stems from the same instrument and track using soundfile\n",
    "        for inst in np.unique(file_inst[:,1]):\n",
    "            inst_files = file_inst[file_inst[:,1] == inst][:,0]\n",
    "            inst_files = [os.path.join(tr_path, 'stems', inst_file) for inst_file in inst_files]\n",
    "            inst_data = np.array([sf.read(inst_file)[0] for inst_file in inst_files])\n",
    "            inst_data = np.sum(inst_data, axis=0)\n",
    "            # compute the STFT of the combined data\n",
    "            if inst in ['mix','Bass', 'Guitar', 'Drums', 'Piano']:\n",
    "                f, t, Zxx = stft(inst_data, fs=sample_rate, nperseg=nperseg)\n",
    "                tr_dicts_2.update({inst: torch.tensor(Zxx.copy(), dtype=torch.complex128, device=device)})\n",
    "        # save the dictionary as a .pt file\n",
    "        torch.save(tr_dicts_2, os.path.join(savedir, tr + '.pt'))\n",
    "        if i > max_size:\n",
    "            break"
   ]
  },
  {
   "cell_type": "code",
   "execution_count": 48,
   "metadata": {},
   "outputs": [],
   "source": [
    "tr_dicts_3 = torch.load('/Users/odysseaslazaridis/Documents/GroupProject/new_babyslack/Track00017/Track00017.pt')\n",
    "\n"
   ]
  },
  {
   "cell_type": "code",
   "execution_count": 49,
   "metadata": {},
   "outputs": [
    {
     "data": {
      "text/plain": [
       "{0: {'Guitar.wav': 1, 'Piano.wav': 1, 'Bass.wav': 0, 'Drums.wav': 1},\n",
       " 1: {'Guitar.wav': 1, 'Piano.wav': 1, 'Bass.wav': 0, 'Drums.wav': 1},\n",
       " 2: {'Guitar.wav': 1, 'Piano.wav': 1, 'Bass.wav': 0, 'Drums.wav': 1},\n",
       " 3: {'Guitar.wav': 1, 'Piano.wav': 1, 'Bass.wav': 0, 'Drums.wav': 1},\n",
       " 4: {'Guitar.wav': 1, 'Piano.wav': 1, 'Bass.wav': 0, 'Drums.wav': 1},\n",
       " 5: {'Guitar.wav': 1, 'Piano.wav': 1, 'Bass.wav': 0, 'Drums.wav': 1},\n",
       " 6: {'Guitar.wav': 1, 'Piano.wav': 1, 'Bass.wav': 0, 'Drums.wav': 1},\n",
       " 7: {'Guitar.wav': 1, 'Piano.wav': 1, 'Bass.wav': 0, 'Drums.wav': 1},\n",
       " 8: {'Guitar.wav': 1, 'Piano.wav': 1, 'Bass.wav': 0, 'Drums.wav': 1},\n",
       " 9: {'Guitar.wav': 1, 'Piano.wav': 1, 'Bass.wav': 0, 'Drums.wav': 1},\n",
       " 10: {'Guitar.wav': 1, 'Piano.wav': 1, 'Bass.wav': 0, 'Drums.wav': 1},\n",
       " 11: {'Guitar.wav': 1, 'Piano.wav': 1, 'Bass.wav': 0, 'Drums.wav': 1},\n",
       " 12: {'Guitar.wav': 1, 'Piano.wav': 1, 'Bass.wav': 0, 'Drums.wav': 1},\n",
       " 13: {'Guitar.wav': 1, 'Piano.wav': 1, 'Bass.wav': 0, 'Drums.wav': 1},\n",
       " 14: {'Guitar.wav': 1, 'Piano.wav': 1, 'Bass.wav': 0, 'Drums.wav': 1},\n",
       " 15: {'Guitar.wav': 1, 'Piano.wav': 1, 'Bass.wav': 0, 'Drums.wav': 1},\n",
       " 16: {'Guitar.wav': 1, 'Piano.wav': 1, 'Bass.wav': 0, 'Drums.wav': 1},\n",
       " 17: {'Guitar.wav': 1, 'Piano.wav': 1, 'Bass.wav': 0, 'Drums.wav': 1},\n",
       " 18: {'Guitar.wav': 1, 'Piano.wav': 1, 'Bass.wav': 0, 'Drums.wav': 1},\n",
       " 19: {'Guitar.wav': 1, 'Piano.wav': 1, 'Bass.wav': 0, 'Drums.wav': 1},\n",
       " 20: {'Guitar.wav': 1, 'Piano.wav': 1, 'Bass.wav': 0, 'Drums.wav': 1},\n",
       " 21: {'Guitar.wav': 1, 'Piano.wav': 1, 'Bass.wav': 0, 'Drums.wav': 1},\n",
       " 22: {'Guitar.wav': 1, 'Piano.wav': 1, 'Bass.wav': 0, 'Drums.wav': 1},\n",
       " 23: {'Guitar.wav': 1, 'Piano.wav': 1, 'Bass.wav': 0, 'Drums.wav': 1},\n",
       " 24: {'Guitar.wav': 1, 'Piano.wav': 1, 'Bass.wav': 0, 'Drums.wav': 1},\n",
       " 25: {'Guitar.wav': 1, 'Piano.wav': 1, 'Bass.wav': 0, 'Drums.wav': 1},\n",
       " 26: {'Guitar.wav': 1, 'Piano.wav': 1, 'Bass.wav': 0, 'Drums.wav': 1},\n",
       " 27: {'Guitar.wav': 1, 'Piano.wav': 1, 'Bass.wav': 0, 'Drums.wav': 1},\n",
       " 28: {'Guitar.wav': 1, 'Piano.wav': 1, 'Bass.wav': 0, 'Drums.wav': 1},\n",
       " 29: {'Guitar.wav': 1, 'Piano.wav': 1, 'Bass.wav': 0, 'Drums.wav': 1},\n",
       " 30: {'Guitar.wav': 1, 'Piano.wav': 1, 'Bass.wav': 0, 'Drums.wav': 1},\n",
       " 31: {'Guitar.wav': 1, 'Piano.wav': 1, 'Bass.wav': 0, 'Drums.wav': 1},\n",
       " 32: {'Guitar.wav': 1, 'Piano.wav': 1, 'Bass.wav': 0, 'Drums.wav': 1},\n",
       " 33: {'Guitar.wav': 1, 'Piano.wav': 1, 'Bass.wav': 0, 'Drums.wav': 1},\n",
       " 34: {'Guitar.wav': 1, 'Piano.wav': 1, 'Bass.wav': 0, 'Drums.wav': 1},\n",
       " 35: {'Guitar.wav': 1, 'Piano.wav': 1, 'Bass.wav': 0, 'Drums.wav': 1},\n",
       " 36: {'Guitar.wav': 1, 'Piano.wav': 1, 'Bass.wav': 0, 'Drums.wav': 1},\n",
       " 37: {'Guitar.wav': 1, 'Piano.wav': 1, 'Bass.wav': 0, 'Drums.wav': 1},\n",
       " 38: {'Guitar.wav': 1, 'Piano.wav': 1, 'Bass.wav': 0, 'Drums.wav': 1},\n",
       " 39: {'Guitar.wav': 1, 'Piano.wav': 1, 'Bass.wav': 0, 'Drums.wav': 1},\n",
       " 40: {'Guitar.wav': 1, 'Piano.wav': 1, 'Bass.wav': 0, 'Drums.wav': 1},\n",
       " 41: {'Guitar.wav': 1, 'Piano.wav': 1, 'Bass.wav': 0, 'Drums.wav': 1},\n",
       " 42: {'Guitar.wav': 1, 'Piano.wav': 1, 'Bass.wav': 0, 'Drums.wav': 1},\n",
       " 43: {'Guitar.wav': 1, 'Piano.wav': 1, 'Bass.wav': 0, 'Drums.wav': 1},\n",
       " 44: {'Guitar.wav': 1, 'Piano.wav': 1, 'Bass.wav': 0, 'Drums.wav': 1},\n",
       " 45: {'Guitar.wav': 1, 'Piano.wav': 1, 'Bass.wav': 0, 'Drums.wav': 1},\n",
       " 46: {'Guitar.wav': 1, 'Piano.wav': 1, 'Bass.wav': 0, 'Drums.wav': 1},\n",
       " 47: {'Guitar.wav': 1, 'Piano.wav': 1, 'Bass.wav': 0, 'Drums.wav': 1},\n",
       " 48: {'Guitar.wav': 1, 'Piano.wav': 1, 'Bass.wav': 0, 'Drums.wav': 1},\n",
       " 49: {'Guitar.wav': 1, 'Piano.wav': 1, 'Bass.wav': 0, 'Drums.wav': 1},\n",
       " 50: {'Guitar.wav': 1, 'Piano.wav': 1, 'Bass.wav': 0, 'Drums.wav': 1},\n",
       " 51: {'Guitar.wav': 1, 'Piano.wav': 1, 'Bass.wav': 0, 'Drums.wav': 1},\n",
       " 52: {'Guitar.wav': 1, 'Piano.wav': 1, 'Bass.wav': 0, 'Drums.wav': 1},\n",
       " 53: {'Guitar.wav': 1, 'Piano.wav': 1, 'Bass.wav': 0, 'Drums.wav': 1},\n",
       " 54: {'Guitar.wav': 1, 'Piano.wav': 1, 'Bass.wav': 0, 'Drums.wav': 1},\n",
       " 55: {'Guitar.wav': 1, 'Piano.wav': 1, 'Bass.wav': 0, 'Drums.wav': 1},\n",
       " 56: {'Guitar.wav': 1, 'Piano.wav': 1, 'Bass.wav': 0, 'Drums.wav': 1},\n",
       " 57: {'Guitar.wav': 1, 'Piano.wav': 1, 'Bass.wav': 0, 'Drums.wav': 1},\n",
       " 58: {'Guitar.wav': 1, 'Piano.wav': 1, 'Bass.wav': 0, 'Drums.wav': 1},\n",
       " 59: {'Guitar.wav': 1, 'Piano.wav': 1, 'Bass.wav': 0, 'Drums.wav': 1},\n",
       " 60: {'Guitar.wav': 1, 'Piano.wav': 1, 'Bass.wav': 0, 'Drums.wav': 1},\n",
       " 61: {'Guitar.wav': 1, 'Piano.wav': 1, 'Bass.wav': 0, 'Drums.wav': 1},\n",
       " 62: {'Guitar.wav': 1, 'Piano.wav': 1, 'Bass.wav': 0, 'Drums.wav': 1},\n",
       " 63: {'Guitar.wav': 1, 'Piano.wav': 1, 'Bass.wav': 0, 'Drums.wav': 1},\n",
       " 64: {'Guitar.wav': 1, 'Piano.wav': 1, 'Bass.wav': 0, 'Drums.wav': 1},\n",
       " 65: {'Guitar.wav': 1, 'Piano.wav': 1, 'Bass.wav': 0, 'Drums.wav': 1},\n",
       " 66: {'Guitar.wav': 1, 'Piano.wav': 1, 'Bass.wav': 0, 'Drums.wav': 1},\n",
       " 67: {'Guitar.wav': 1, 'Piano.wav': 1, 'Bass.wav': 0, 'Drums.wav': 1},\n",
       " 68: {'Guitar.wav': 1, 'Piano.wav': 1, 'Bass.wav': 0, 'Drums.wav': 1},\n",
       " 69: {'Guitar.wav': 1, 'Piano.wav': 1, 'Bass.wav': 0, 'Drums.wav': 1},\n",
       " 70: {'Guitar.wav': 1, 'Piano.wav': 1, 'Bass.wav': 0, 'Drums.wav': 1},\n",
       " 71: {'Guitar.wav': 1, 'Piano.wav': 1, 'Bass.wav': 0, 'Drums.wav': 1},\n",
       " 72: {'Guitar.wav': 1, 'Piano.wav': 1, 'Bass.wav': 0, 'Drums.wav': 1},\n",
       " 73: {'Guitar.wav': 1, 'Piano.wav': 1, 'Bass.wav': 0, 'Drums.wav': 1},\n",
       " 74: {'Guitar.wav': 1, 'Piano.wav': 1, 'Bass.wav': 0, 'Drums.wav': 1},\n",
       " 75: {'Guitar.wav': 1, 'Piano.wav': 1, 'Bass.wav': 0, 'Drums.wav': 1},\n",
       " 76: {'Guitar.wav': 1, 'Piano.wav': 1, 'Bass.wav': 0, 'Drums.wav': 1},\n",
       " 77: {'Guitar.wav': 1, 'Piano.wav': 1, 'Bass.wav': 0, 'Drums.wav': 1}}"
      ]
     },
     "execution_count": 49,
     "metadata": {},
     "output_type": "execute_result"
    }
   ],
   "source": [
    "tr_dicts_3"
   ]
  },
  {
   "cell_type": "code",
   "execution_count": null,
   "metadata": {},
   "outputs": [],
   "source": [
    "for tr in tr_dicts_3:\n"
   ]
  }
 ],
 "metadata": {
  "kernelspec": {
   "display_name": "base",
   "language": "python",
   "name": "python3"
  },
  "language_info": {
   "codemirror_mode": {
    "name": "ipython",
    "version": 3
   },
   "file_extension": ".py",
   "mimetype": "text/x-python",
   "name": "python",
   "nbconvert_exporter": "python",
   "pygments_lexer": "ipython3",
   "version": "3.11.3"
  },
  "orig_nbformat": 4
 },
 "nbformat": 4,
 "nbformat_minor": 2
}
