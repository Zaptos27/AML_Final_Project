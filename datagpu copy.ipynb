{
 "cells": [
  {
   "cell_type": "code",
   "execution_count": 1,
   "metadata": {},
   "outputs": [],
   "source": [
    "import yaml\n",
    "import numpy as np\n",
    "import os\n",
    "import soundfile as sf\n",
    "from scipy.signal import stft\n",
    "from tqdm import tqdm\n",
    "import torch\n",
    "# If you have a GPU, put the data on the GPU\n",
    "device = torch.device(\"cuda\" if torch.cuda.is_available() else \"cpu\")"
   ]
  },
  {
   "cell_type": "code",
   "execution_count": 9,
   "metadata": {},
   "outputs": [
    {
     "name": "stderr",
     "output_type": "stream",
     "text": [
      "100%|██████████| 21/21 [00:20<00:00,  1.00it/s]\n"
     ]
    }
   ],
   "source": [
    "directory = \"/Users/odysseaslazaridis/Documents/GroupProject/babyslakh_16k\"\n",
    "listdir = os.listdir(directory)\n",
    "listdir.sort()\n",
    "format = '.wav'\n",
    "savedir = 'data'\n",
    "sample_rate = 16000\n",
    "nperseg = 256\n",
    "max_size = 250\n",
    "\n",
    "for i, tr in enumerate(tqdm(listdir)):\n",
    "    if tr != \".DS_Store\":\n",
    "        tr_dicts_2 = {}\n",
    "        tr_path = os.path.join(directory, tr)\n",
    "        with open(os.path.join(tr_path, \"metadata.yaml\")) as meta:\n",
    "            metadata = yaml.load(meta, Loader=yaml.Loader)\n",
    "        # add Mix to the dictionary\n",
    "        f, t, Zxx = stft(sf.read(os.path.join(directory,tr, 'mix'+format))[0], fs=sample_rate, nperseg=nperseg)\n",
    "        tr_dicts_2.update({'mix': torch.tensor(Zxx.copy(), dtype=torch.complex128, device=device)})\n",
    "        file_inst = []\n",
    "        for stem in metadata['stems'].keys():\n",
    "            file_inst.append([stem + format, metadata['stems'][stem]['inst_class']])\n",
    "        file_inst = np.array(file_inst)\n",
    "        file_inst = file_inst[[file_inst[:,0][i] in os.listdir(tr_path + '/stems') for i in range(len(file_inst))]]\n",
    "        # combine all stems from the same instrument and track using soundfile\n",
    "        for inst in np.unique(file_inst[:,1]):\n",
    "            inst_files = file_inst[file_inst[:,1] == inst][:,0]\n",
    "            inst_files = [os.path.join(tr_path, 'stems', inst_file) for inst_file in inst_files]\n",
    "            inst_data = np.array([sf.read(inst_file)[0] for inst_file in inst_files])\n",
    "            inst_data = np.sum(inst_data, axis=0)\n",
    "            # compute the STFT of the combined data\n",
    "            if inst in ['mix','Bass', 'Guitar', 'Drums', 'Piano']:\n",
    "                f, t, Zxx = stft(inst_data, fs=sample_rate, nperseg=nperseg)\n",
    "                tr_dicts_2.update({inst: torch.tensor(Zxx.copy(), dtype=torch.complex128, device=device)})\n",
    "        # save the dictionary as a .pt file\n",
    "        torch.save(tr_dicts_2, os.path.join(savedir, tr + '.pt'))\n",
    "        if i > max_size:\n",
    "            break"
   ]
  },
  {
   "cell_type": "code",
   "execution_count": 40,
   "metadata": {},
   "outputs": [
    {
     "ename": "FileNotFoundError",
     "evalue": "[Errno 2] No such file or directory: '/Users/odysseaslazaridis/Documents/GroupProject/new_babyslack/Track00008/Track00006.pt'",
     "output_type": "error",
     "traceback": [
      "\u001b[0;31m---------------------------------------------------------------------------\u001b[0m",
      "\u001b[0;31mFileNotFoundError\u001b[0m                         Traceback (most recent call last)",
      "Cell \u001b[0;32mIn[40], line 1\u001b[0m\n\u001b[0;32m----> 1\u001b[0m tr_dicts_3 \u001b[39m=\u001b[39m torch\u001b[39m.\u001b[39;49mload(\u001b[39m'\u001b[39;49m\u001b[39m/Users/odysseaslazaridis/Documents/GroupProject/new_babyslack/Track00008/Track00006.pt\u001b[39;49m\u001b[39m'\u001b[39;49m)\n",
      "File \u001b[0;32m/opt/homebrew/lib/python3.11/site-packages/torch/serialization.py:791\u001b[0m, in \u001b[0;36mload\u001b[0;34m(f, map_location, pickle_module, weights_only, **pickle_load_args)\u001b[0m\n\u001b[1;32m    788\u001b[0m \u001b[39mif\u001b[39;00m \u001b[39m'\u001b[39m\u001b[39mencoding\u001b[39m\u001b[39m'\u001b[39m \u001b[39mnot\u001b[39;00m \u001b[39min\u001b[39;00m pickle_load_args\u001b[39m.\u001b[39mkeys():\n\u001b[1;32m    789\u001b[0m     pickle_load_args[\u001b[39m'\u001b[39m\u001b[39mencoding\u001b[39m\u001b[39m'\u001b[39m] \u001b[39m=\u001b[39m \u001b[39m'\u001b[39m\u001b[39mutf-8\u001b[39m\u001b[39m'\u001b[39m\n\u001b[0;32m--> 791\u001b[0m \u001b[39mwith\u001b[39;00m _open_file_like(f, \u001b[39m'\u001b[39;49m\u001b[39mrb\u001b[39;49m\u001b[39m'\u001b[39;49m) \u001b[39mas\u001b[39;00m opened_file:\n\u001b[1;32m    792\u001b[0m     \u001b[39mif\u001b[39;00m _is_zipfile(opened_file):\n\u001b[1;32m    793\u001b[0m         \u001b[39m# The zipfile reader is going to advance the current file position.\u001b[39;00m\n\u001b[1;32m    794\u001b[0m         \u001b[39m# If we want to actually tail call to torch.jit.load, we need to\u001b[39;00m\n\u001b[1;32m    795\u001b[0m         \u001b[39m# reset back to the original position.\u001b[39;00m\n\u001b[1;32m    796\u001b[0m         orig_position \u001b[39m=\u001b[39m opened_file\u001b[39m.\u001b[39mtell()\n",
      "File \u001b[0;32m/opt/homebrew/lib/python3.11/site-packages/torch/serialization.py:271\u001b[0m, in \u001b[0;36m_open_file_like\u001b[0;34m(name_or_buffer, mode)\u001b[0m\n\u001b[1;32m    269\u001b[0m \u001b[39mdef\u001b[39;00m \u001b[39m_open_file_like\u001b[39m(name_or_buffer, mode):\n\u001b[1;32m    270\u001b[0m     \u001b[39mif\u001b[39;00m _is_path(name_or_buffer):\n\u001b[0;32m--> 271\u001b[0m         \u001b[39mreturn\u001b[39;00m _open_file(name_or_buffer, mode)\n\u001b[1;32m    272\u001b[0m     \u001b[39melse\u001b[39;00m:\n\u001b[1;32m    273\u001b[0m         \u001b[39mif\u001b[39;00m \u001b[39m'\u001b[39m\u001b[39mw\u001b[39m\u001b[39m'\u001b[39m \u001b[39min\u001b[39;00m mode:\n",
      "File \u001b[0;32m/opt/homebrew/lib/python3.11/site-packages/torch/serialization.py:252\u001b[0m, in \u001b[0;36m_open_file.__init__\u001b[0;34m(self, name, mode)\u001b[0m\n\u001b[1;32m    251\u001b[0m \u001b[39mdef\u001b[39;00m \u001b[39m__init__\u001b[39m(\u001b[39mself\u001b[39m, name, mode):\n\u001b[0;32m--> 252\u001b[0m     \u001b[39msuper\u001b[39m()\u001b[39m.\u001b[39m\u001b[39m__init__\u001b[39m(\u001b[39mopen\u001b[39m(name, mode))\n",
      "\u001b[0;31mFileNotFoundError\u001b[0m: [Errno 2] No such file or directory: '/Users/odysseaslazaridis/Documents/GroupProject/new_babyslack/Track00008/Track00006.pt'"
     ]
    }
   ],
   "source": [
    "tr_dicts_3 = torch.load('/Users/odysseaslazaridis/Documents/GroupProject/new_babyslack/Track000017/Track000017.pt')\n",
    "\n"
   ]
  },
  {
   "cell_type": "code",
   "execution_count": 39,
   "metadata": {},
   "outputs": [
    {
     "data": {
      "text/plain": [
       "{'.DS_Store': {},\n",
       " 'Track00006': {0: {'Guitar.wav': 1,\n",
       "   'Piano.wav': 1,\n",
       "   'Bass.wav': 1,\n",
       "   'Drums.wav': 1},\n",
       "  1: {'Guitar.wav': 1, 'Piano.wav': 1, 'Bass.wav': 1, 'Drums.wav': 1},\n",
       "  2: {'Guitar.wav': 1, 'Piano.wav': 1, 'Bass.wav': 1, 'Drums.wav': 1},\n",
       "  3: {'Guitar.wav': 1, 'Piano.wav': 1, 'Bass.wav': 1, 'Drums.wav': 1},\n",
       "  4: {'Guitar.wav': 1, 'Piano.wav': 1, 'Bass.wav': 1, 'Drums.wav': 1},\n",
       "  5: {'Guitar.wav': 1, 'Piano.wav': 1, 'Bass.wav': 1, 'Drums.wav': 1},\n",
       "  6: {'Guitar.wav': 1, 'Piano.wav': 1, 'Bass.wav': 1, 'Drums.wav': 1},\n",
       "  7: {'Guitar.wav': 1, 'Piano.wav': 1, 'Bass.wav': 1, 'Drums.wav': 1},\n",
       "  8: {'Guitar.wav': 1, 'Piano.wav': 1, 'Bass.wav': 1, 'Drums.wav': 1},\n",
       "  9: {'Guitar.wav': 1, 'Piano.wav': 1, 'Bass.wav': 1, 'Drums.wav': 1},\n",
       "  10: {'Guitar.wav': 1, 'Piano.wav': 1, 'Bass.wav': 1, 'Drums.wav': 1},\n",
       "  11: {'Guitar.wav': 1, 'Piano.wav': 1, 'Bass.wav': 1, 'Drums.wav': 1},\n",
       "  12: {'Guitar.wav': 1, 'Piano.wav': 1, 'Bass.wav': 1, 'Drums.wav': 1},\n",
       "  13: {'Guitar.wav': 1, 'Piano.wav': 1, 'Bass.wav': 1, 'Drums.wav': 1},\n",
       "  14: {'Guitar.wav': 1, 'Piano.wav': 1, 'Bass.wav': 1, 'Drums.wav': 1},\n",
       "  15: {'Guitar.wav': 1, 'Piano.wav': 1, 'Bass.wav': 1, 'Drums.wav': 1},\n",
       "  16: {'Guitar.wav': 1, 'Piano.wav': 1, 'Bass.wav': 1, 'Drums.wav': 1},\n",
       "  17: {'Guitar.wav': 1, 'Piano.wav': 1, 'Bass.wav': 1, 'Drums.wav': 1},\n",
       "  18: {'Guitar.wav': 1, 'Piano.wav': 1, 'Bass.wav': 1, 'Drums.wav': 1},\n",
       "  19: {'Guitar.wav': 1, 'Piano.wav': 1, 'Bass.wav': 1, 'Drums.wav': 1},\n",
       "  20: {'Guitar.wav': 1, 'Piano.wav': 1, 'Bass.wav': 1, 'Drums.wav': 1},\n",
       "  21: {'Guitar.wav': 1, 'Piano.wav': 1, 'Bass.wav': 1, 'Drums.wav': 1},\n",
       "  22: {'Guitar.wav': 1, 'Piano.wav': 1, 'Bass.wav': 1, 'Drums.wav': 1},\n",
       "  23: {'Guitar.wav': 1, 'Piano.wav': 1, 'Bass.wav': 1, 'Drums.wav': 1},\n",
       "  24: {'Guitar.wav': 1, 'Piano.wav': 1, 'Bass.wav': 1, 'Drums.wav': 1},\n",
       "  25: {'Guitar.wav': 1, 'Piano.wav': 1, 'Bass.wav': 1, 'Drums.wav': 1},\n",
       "  26: {'Guitar.wav': 1, 'Piano.wav': 1, 'Bass.wav': 1, 'Drums.wav': 1},\n",
       "  27: {'Guitar.wav': 1, 'Piano.wav': 1, 'Bass.wav': 1, 'Drums.wav': 1},\n",
       "  28: {'Guitar.wav': 1, 'Piano.wav': 1, 'Bass.wav': 1, 'Drums.wav': 1},\n",
       "  29: {'Guitar.wav': 1, 'Piano.wav': 1, 'Bass.wav': 1, 'Drums.wav': 1},\n",
       "  30: {'Guitar.wav': 1, 'Piano.wav': 1, 'Bass.wav': 1, 'Drums.wav': 1},\n",
       "  31: {'Guitar.wav': 1, 'Piano.wav': 1, 'Bass.wav': 1, 'Drums.wav': 1},\n",
       "  32: {'Guitar.wav': 1, 'Piano.wav': 1, 'Bass.wav': 1, 'Drums.wav': 1},\n",
       "  33: {'Guitar.wav': 1, 'Piano.wav': 1, 'Bass.wav': 1, 'Drums.wav': 1},\n",
       "  34: {'Guitar.wav': 1, 'Piano.wav': 1, 'Bass.wav': 1, 'Drums.wav': 1},\n",
       "  35: {'Guitar.wav': 1, 'Piano.wav': 1, 'Bass.wav': 1, 'Drums.wav': 1},\n",
       "  36: {'Guitar.wav': 1, 'Piano.wav': 1, 'Bass.wav': 1, 'Drums.wav': 1},\n",
       "  37: {'Guitar.wav': 1, 'Piano.wav': 1, 'Bass.wav': 1, 'Drums.wav': 1},\n",
       "  38: {'Guitar.wav': 1, 'Piano.wav': 1, 'Bass.wav': 1, 'Drums.wav': 1},\n",
       "  39: {'Guitar.wav': 1, 'Piano.wav': 1, 'Bass.wav': 1, 'Drums.wav': 1},\n",
       "  40: {'Guitar.wav': 1, 'Piano.wav': 1, 'Bass.wav': 1, 'Drums.wav': 1},\n",
       "  41: {'Guitar.wav': 1, 'Piano.wav': 1, 'Bass.wav': 1, 'Drums.wav': 1},\n",
       "  42: {'Guitar.wav': 1, 'Piano.wav': 1, 'Bass.wav': 1, 'Drums.wav': 1},\n",
       "  43: {'Guitar.wav': 1, 'Piano.wav': 1, 'Bass.wav': 1, 'Drums.wav': 1},\n",
       "  44: {'Guitar.wav': 1, 'Piano.wav': 1, 'Bass.wav': 1, 'Drums.wav': 1},\n",
       "  45: {'Guitar.wav': 1, 'Piano.wav': 1, 'Bass.wav': 1, 'Drums.wav': 1},\n",
       "  46: {'Guitar.wav': 1, 'Piano.wav': 1, 'Bass.wav': 1, 'Drums.wav': 1},\n",
       "  47: {'Guitar.wav': 1, 'Piano.wav': 1, 'Bass.wav': 1, 'Drums.wav': 1},\n",
       "  48: {'Guitar.wav': 1, 'Piano.wav': 1, 'Bass.wav': 1, 'Drums.wav': 1},\n",
       "  49: {'Guitar.wav': 1, 'Piano.wav': 1, 'Bass.wav': 1, 'Drums.wav': 1},\n",
       "  50: {'Guitar.wav': 1, 'Piano.wav': 1, 'Bass.wav': 1, 'Drums.wav': 1},\n",
       "  51: {'Guitar.wav': 1, 'Piano.wav': 1, 'Bass.wav': 1, 'Drums.wav': 1},\n",
       "  52: {'Guitar.wav': 1, 'Piano.wav': 1, 'Bass.wav': 1, 'Drums.wav': 1},\n",
       "  53: {'Guitar.wav': 1, 'Piano.wav': 1, 'Bass.wav': 1, 'Drums.wav': 1},\n",
       "  54: {'Guitar.wav': 1, 'Piano.wav': 1, 'Bass.wav': 1, 'Drums.wav': 1},\n",
       "  55: {'Guitar.wav': 1, 'Piano.wav': 1, 'Bass.wav': 1, 'Drums.wav': 1},\n",
       "  56: {'Guitar.wav': 1, 'Piano.wav': 1, 'Bass.wav': 1, 'Drums.wav': 1},\n",
       "  57: {'Guitar.wav': 1, 'Piano.wav': 1, 'Bass.wav': 1, 'Drums.wav': 1},\n",
       "  58: {'Guitar.wav': 1, 'Piano.wav': 1, 'Bass.wav': 1, 'Drums.wav': 1},\n",
       "  59: {'Guitar.wav': 1, 'Piano.wav': 1, 'Bass.wav': 1, 'Drums.wav': 1},\n",
       "  60: {'Guitar.wav': 1, 'Piano.wav': 1, 'Bass.wav': 1, 'Drums.wav': 1}}}"
      ]
     },
     "execution_count": 39,
     "metadata": {},
     "output_type": "execute_result"
    }
   ],
   "source": [
    "tr_dicts_3"
   ]
  },
  {
   "cell_type": "code",
   "execution_count": null,
   "metadata": {},
   "outputs": [],
   "source": [
    "for tr in tr_dicts_3:\n"
   ]
  }
 ],
 "metadata": {
  "kernelspec": {
   "display_name": "base",
   "language": "python",
   "name": "python3"
  },
  "language_info": {
   "codemirror_mode": {
    "name": "ipython",
    "version": 3
   },
   "file_extension": ".py",
   "mimetype": "text/x-python",
   "name": "python",
   "nbconvert_exporter": "python",
   "pygments_lexer": "ipython3",
   "version": "3.11.3"
  },
  "orig_nbformat": 4
 },
 "nbformat": 4,
 "nbformat_minor": 2
}
